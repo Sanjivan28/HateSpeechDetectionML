{
  "nbformat": 4,
  "nbformat_minor": 0,
  "metadata": {
    "colab": {
      "provenance": [],
      "gpuType": "L4",
      "authorship_tag": "ABX9TyMLIDVevtZNaOEVi/yBawDp",
      "include_colab_link": true
    },
    "kernelspec": {
      "name": "python3",
      "display_name": "Python 3"
    },
    "language_info": {
      "name": "python"
    },
    "accelerator": "GPU"
  },
  "cells": [
    {
      "cell_type": "markdown",
      "metadata": {
        "id": "view-in-github",
        "colab_type": "text"
      },
      "source": [
        "<a href=\"https://colab.research.google.com/github/Sanjivan28/HateSpeechDetectionML/blob/main/HateSpeechDetection.ipynb\" target=\"_parent\"><img src=\"https://colab.research.google.com/assets/colab-badge.svg\" alt=\"Open In Colab\"/></a>"
      ]
    },
    {
      "cell_type": "markdown",
      "source": [
        "**HATE SPEECH DETECTION - MACHINE LEARNING**"
      ],
      "metadata": {
        "id": "_SWwWPJfb5Zo"
      }
    },
    {
      "cell_type": "code",
      "execution_count": 9,
      "metadata": {
        "id": "W0o1TWClbIOL"
      },
      "outputs": [],
      "source": [
        "import pandas as pd\n",
        "import re\n",
        "import string\n",
        "import nltk\n",
        "from nltk.corpus import stopwords\n",
        "from sklearn.feature_extraction.text import CountVectorizer\n",
        "from sklearn.model_selection import train_test_split\n",
        "from sklearn.tree import DecisionTreeClassifier\n",
        "import numpy as np"
      ]
    },
    {
      "cell_type": "markdown",
      "source": [
        "**IMPORT THE DATASET**"
      ],
      "metadata": {
        "id": "QTcr0JPUdCW0"
      }
    },
    {
      "cell_type": "code",
      "source": [
        "# Load the dataset\n",
        "data = pd.read_csv(\"twitter.csv\")\n",
        "print(data.head())"
      ],
      "metadata": {
        "id": "FtA9RwCAdH4n",
        "colab": {
          "base_uri": "https://localhost:8080/"
        },
        "outputId": "01da8c39-9ac5-477c-e842-67a20702aa6e"
      },
      "execution_count": 10,
      "outputs": [
        {
          "output_type": "stream",
          "name": "stdout",
          "text": [
            "   Unnamed: 0  count  hate_speech  offensive_language  neither  class  \\\n",
            "0           0      3            0                   0        3      2   \n",
            "1           1      3            0                   3        0      1   \n",
            "2           2      3            0                   3        0      1   \n",
            "3           3      3            0                   2        1      1   \n",
            "4           4      6            0                   6        0      1   \n",
            "\n",
            "                                               tweet  \n",
            "0  !!! RT @mayasolovely: As a woman you shouldn't...  \n",
            "1  !!!!! RT @mleew17: boy dats cold...tyga dwn ba...  \n",
            "2  !!!!!!! RT @UrKindOfBrand Dawg!!!! RT @80sbaby...  \n",
            "3  !!!!!!!!! RT @C_G_Anderson: @viva_based she lo...  \n",
            "4  !!!!!!!!!!!!! RT @ShenikaRoberts: The shit you...  \n"
          ]
        }
      ]
    },
    {
      "cell_type": "code",
      "source": [
        "import nltk\n",
        "nltk.download('stopwords')\n",
        "# Initialize the stemmer and stopwords\n",
        "stemmer = nltk.SnowballStemmer(\"english\")\n",
        "stopword = stopwords.words('english')"
      ],
      "metadata": {
        "id": "9orOD4mMeQdE",
        "colab": {
          "base_uri": "https://localhost:8080/"
        },
        "outputId": "e139e53b-f066-45a1-e091-09843a5d0625"
      },
      "execution_count": 18,
      "outputs": [
        {
          "output_type": "stream",
          "name": "stderr",
          "text": [
            "[nltk_data] Downloading package stopwords to /root/nltk_data...\n",
            "[nltk_data]   Unzipping corpora/stopwords.zip.\n"
          ]
        }
      ]
    },
    {
      "cell_type": "markdown",
      "source": [
        "**MAP THE COLUMNS FOR HATE SPEECH**"
      ],
      "metadata": {
        "id": "QVo6cnpYd0bX"
      }
    },
    {
      "cell_type": "code",
      "source": [
        "# Map the class labels\n",
        "data[\"labels\"] = data[\"class\"].map({0: \"Hate Speech\", 1: \"Offensive Language\", 2: \"Non-offensive and normal Language\"})\n",
        "print(data.head(15))"
      ],
      "metadata": {
        "id": "Bo54FM-Td6PB",
        "colab": {
          "base_uri": "https://localhost:8080/"
        },
        "outputId": "b2f27d47-9912-43d2-d816-9852b8b3354a"
      },
      "execution_count": 13,
      "outputs": [
        {
          "output_type": "stream",
          "name": "stdout",
          "text": [
            "    Unnamed: 0  count  hate_speech  offensive_language  neither  class  \\\n",
            "0            0      3            0                   0        3      2   \n",
            "1            1      3            0                   3        0      1   \n",
            "2            2      3            0                   3        0      1   \n",
            "3            3      3            0                   2        1      1   \n",
            "4            4      6            0                   6        0      1   \n",
            "5            5      3            1                   2        0      1   \n",
            "6            6      3            0                   3        0      1   \n",
            "7            7      3            0                   3        0      1   \n",
            "8            8      3            0                   3        0      1   \n",
            "9            9      3            1                   2        0      1   \n",
            "10          10      3            0                   3        0      1   \n",
            "11          11      3            0                   3        0      1   \n",
            "12          12      3            0                   2        1      1   \n",
            "13          13      3            0                   3        0      1   \n",
            "14          14      3            1                   2        0      1   \n",
            "\n",
            "                                                tweet  \\\n",
            "0   !!! RT @mayasolovely: As a woman you shouldn't...   \n",
            "1   !!!!! RT @mleew17: boy dats cold...tyga dwn ba...   \n",
            "2   !!!!!!! RT @UrKindOfBrand Dawg!!!! RT @80sbaby...   \n",
            "3   !!!!!!!!! RT @C_G_Anderson: @viva_based she lo...   \n",
            "4   !!!!!!!!!!!!! RT @ShenikaRoberts: The shit you...   \n",
            "5   !!!!!!!!!!!!!!!!!!\"@T_Madison_x: The shit just...   \n",
            "6   !!!!!!\"@__BrighterDays: I can not just sit up ...   \n",
            "7   !!!!&#8220;@selfiequeenbri: cause I'm tired of...   \n",
            "8   \" &amp; you might not get ya bitch back &amp; ...   \n",
            "9   \" @rhythmixx_ :hobbies include: fighting Maria...   \n",
            "10  \" Keeks is a bitch she curves everyone \" lol I...   \n",
            "11                 \" Murda Gang bitch its Gang Land \"   \n",
            "12  \" So hoes that smoke are losers ? \" yea ... go...   \n",
            "13      \" bad bitches is the only thing that i like \"   \n",
            "14                            \" bitch get up off me \"   \n",
            "\n",
            "                               labels  \n",
            "0   Non-offensive and normal Language  \n",
            "1                  Offensive Language  \n",
            "2                  Offensive Language  \n",
            "3                  Offensive Language  \n",
            "4                  Offensive Language  \n",
            "5                  Offensive Language  \n",
            "6                  Offensive Language  \n",
            "7                  Offensive Language  \n",
            "8                  Offensive Language  \n",
            "9                  Offensive Language  \n",
            "10                 Offensive Language  \n",
            "11                 Offensive Language  \n",
            "12                 Offensive Language  \n",
            "13                 Offensive Language  \n",
            "14                 Offensive Language  \n"
          ]
        }
      ]
    },
    {
      "cell_type": "code",
      "source": [
        "# Select the relevant columns\n",
        "data = data[[\"tweet\", \"labels\"]]\n",
        "print(data.head())"
      ],
      "metadata": {
        "id": "csHicxh1eCTK",
        "colab": {
          "base_uri": "https://localhost:8080/"
        },
        "outputId": "b303abd4-842c-4f46-9c5b-c5264e8cfb00"
      },
      "execution_count": 14,
      "outputs": [
        {
          "output_type": "stream",
          "name": "stdout",
          "text": [
            "                                               tweet  \\\n",
            "0  !!! RT @mayasolovely: As a woman you shouldn't...   \n",
            "1  !!!!! RT @mleew17: boy dats cold...tyga dwn ba...   \n",
            "2  !!!!!!! RT @UrKindOfBrand Dawg!!!! RT @80sbaby...   \n",
            "3  !!!!!!!!! RT @C_G_Anderson: @viva_based she lo...   \n",
            "4  !!!!!!!!!!!!! RT @ShenikaRoberts: The shit you...   \n",
            "\n",
            "                              labels  \n",
            "0  Non-offensive and normal Language  \n",
            "1                 Offensive Language  \n",
            "2                 Offensive Language  \n",
            "3                 Offensive Language  \n",
            "4                 Offensive Language  \n"
          ]
        }
      ]
    },
    {
      "cell_type": "markdown",
      "source": [
        "**CLEANING THE SENTENCE IN DATASET**"
      ],
      "metadata": {
        "id": "1SHiP2A_fScO"
      }
    },
    {
      "cell_type": "code",
      "source": [
        "# Define the cleaning function\n",
        "def clean(text):\n",
        "    text = text.lower()\n",
        "    text = re.sub(r'[^\\w\\s]', '', text)  # Remove punctuation\n",
        "    text = re.sub(r'\\[.*?\\]', '', text)\n",
        "    text = re.sub(r'https?://\\S+|www\\.\\S+', '', text)\n",
        "    text = re.sub(r'<.*?>+', '', text)\n",
        "    text = re.sub(r'\\n', '', text)\n",
        "    text = re.sub(r'\\w*\\d\\w*', '', text)  # Remove words with digits\n",
        "    text = [stemmer.stem(word) for word in text.split() if word not in stopword]\n",
        "    text = \" \".join(text)\n",
        "\n",
        "    return text"
      ],
      "metadata": {
        "id": "ZXE7e1_LfVmh"
      },
      "execution_count": 15,
      "outputs": []
    },
    {
      "cell_type": "code",
      "source": [
        "# Clean the tweets\n",
        "data[\"cleaned_tweet\"] = data[\"tweet\"].apply(clean)\n",
        "print(data.head())"
      ],
      "metadata": {
        "id": "6VSVtcz7kS5m",
        "colab": {
          "base_uri": "https://localhost:8080/"
        },
        "outputId": "f3e81e02-5d00-4f6e-8aab-b6e79af3e500"
      },
      "execution_count": 19,
      "outputs": [
        {
          "output_type": "stream",
          "name": "stdout",
          "text": [
            "                                               tweet  \\\n",
            "0  !!! RT @mayasolovely: As a woman you shouldn't...   \n",
            "1  !!!!! RT @mleew17: boy dats cold...tyga dwn ba...   \n",
            "2  !!!!!!! RT @UrKindOfBrand Dawg!!!! RT @80sbaby...   \n",
            "3  !!!!!!!!! RT @C_G_Anderson: @viva_based she lo...   \n",
            "4  !!!!!!!!!!!!! RT @ShenikaRoberts: The shit you...   \n",
            "\n",
            "                              labels  \\\n",
            "0  Non-offensive and normal Language   \n",
            "1                 Offensive Language   \n",
            "2                 Offensive Language   \n",
            "3                 Offensive Language   \n",
            "4                 Offensive Language   \n",
            "\n",
            "                                       cleaned_tweet  \n",
            "0  rt mayasolov woman shouldnt complain clean hou...  \n",
            "1   rt boy dat coldtyga dwn bad cuffin dat hoe place  \n",
            "2  rt urkindofbrand dawg rt ever fuck bitch start...  \n",
            "3          rt c_g_anderson viva_bas look like tranni  \n",
            "4  rt shenikarobert shit hear might true might fa...  \n"
          ]
        }
      ]
    },
    {
      "cell_type": "code",
      "source": [
        "# Convert the cleaned tweets to a numpy array\n",
        "x = np.array(data[\"cleaned_tweet\"])\n",
        "y = np.array(data[\"labels\"])"
      ],
      "metadata": {
        "id": "kef1VWcfwEzl"
      },
      "execution_count": 20,
      "outputs": []
    },
    {
      "cell_type": "code",
      "source": [
        "# Vectorize the text data\n",
        "cv = CountVectorizer()\n",
        "X = cv.fit_transform(x)"
      ],
      "metadata": {
        "id": "xHWYtwMLwHfb"
      },
      "execution_count": 21,
      "outputs": []
    },
    {
      "cell_type": "code",
      "source": [
        "# Split the data into training and testing sets\n",
        "X_train, X_test, y_train, y_test = train_test_split(X, y, test_size=0.33, random_state=42)"
      ],
      "metadata": {
        "id": "3tXqAZ7TwMDx"
      },
      "execution_count": 22,
      "outputs": []
    },
    {
      "cell_type": "code",
      "source": [
        "# Train the classifier\n",
        "clf = DecisionTreeClassifier()\n",
        "clf.fit(X_train, y_train)"
      ],
      "metadata": {
        "id": "3oCcCeSvwOmC",
        "colab": {
          "base_uri": "https://localhost:8080/",
          "height": 74
        },
        "outputId": "050f7448-7fa5-4a80-a075-e004361bd135"
      },
      "execution_count": 23,
      "outputs": [
        {
          "output_type": "execute_result",
          "data": {
            "text/plain": [
              "DecisionTreeClassifier()"
            ],
            "text/html": [
              "<style>#sk-container-id-1 {color: black;}#sk-container-id-1 pre{padding: 0;}#sk-container-id-1 div.sk-toggleable {background-color: white;}#sk-container-id-1 label.sk-toggleable__label {cursor: pointer;display: block;width: 100%;margin-bottom: 0;padding: 0.3em;box-sizing: border-box;text-align: center;}#sk-container-id-1 label.sk-toggleable__label-arrow:before {content: \"▸\";float: left;margin-right: 0.25em;color: #696969;}#sk-container-id-1 label.sk-toggleable__label-arrow:hover:before {color: black;}#sk-container-id-1 div.sk-estimator:hover label.sk-toggleable__label-arrow:before {color: black;}#sk-container-id-1 div.sk-toggleable__content {max-height: 0;max-width: 0;overflow: hidden;text-align: left;background-color: #f0f8ff;}#sk-container-id-1 div.sk-toggleable__content pre {margin: 0.2em;color: black;border-radius: 0.25em;background-color: #f0f8ff;}#sk-container-id-1 input.sk-toggleable__control:checked~div.sk-toggleable__content {max-height: 200px;max-width: 100%;overflow: auto;}#sk-container-id-1 input.sk-toggleable__control:checked~label.sk-toggleable__label-arrow:before {content: \"▾\";}#sk-container-id-1 div.sk-estimator input.sk-toggleable__control:checked~label.sk-toggleable__label {background-color: #d4ebff;}#sk-container-id-1 div.sk-label input.sk-toggleable__control:checked~label.sk-toggleable__label {background-color: #d4ebff;}#sk-container-id-1 input.sk-hidden--visually {border: 0;clip: rect(1px 1px 1px 1px);clip: rect(1px, 1px, 1px, 1px);height: 1px;margin: -1px;overflow: hidden;padding: 0;position: absolute;width: 1px;}#sk-container-id-1 div.sk-estimator {font-family: monospace;background-color: #f0f8ff;border: 1px dotted black;border-radius: 0.25em;box-sizing: border-box;margin-bottom: 0.5em;}#sk-container-id-1 div.sk-estimator:hover {background-color: #d4ebff;}#sk-container-id-1 div.sk-parallel-item::after {content: \"\";width: 100%;border-bottom: 1px solid gray;flex-grow: 1;}#sk-container-id-1 div.sk-label:hover label.sk-toggleable__label {background-color: #d4ebff;}#sk-container-id-1 div.sk-serial::before {content: \"\";position: absolute;border-left: 1px solid gray;box-sizing: border-box;top: 0;bottom: 0;left: 50%;z-index: 0;}#sk-container-id-1 div.sk-serial {display: flex;flex-direction: column;align-items: center;background-color: white;padding-right: 0.2em;padding-left: 0.2em;position: relative;}#sk-container-id-1 div.sk-item {position: relative;z-index: 1;}#sk-container-id-1 div.sk-parallel {display: flex;align-items: stretch;justify-content: center;background-color: white;position: relative;}#sk-container-id-1 div.sk-item::before, #sk-container-id-1 div.sk-parallel-item::before {content: \"\";position: absolute;border-left: 1px solid gray;box-sizing: border-box;top: 0;bottom: 0;left: 50%;z-index: -1;}#sk-container-id-1 div.sk-parallel-item {display: flex;flex-direction: column;z-index: 1;position: relative;background-color: white;}#sk-container-id-1 div.sk-parallel-item:first-child::after {align-self: flex-end;width: 50%;}#sk-container-id-1 div.sk-parallel-item:last-child::after {align-self: flex-start;width: 50%;}#sk-container-id-1 div.sk-parallel-item:only-child::after {width: 0;}#sk-container-id-1 div.sk-dashed-wrapped {border: 1px dashed gray;margin: 0 0.4em 0.5em 0.4em;box-sizing: border-box;padding-bottom: 0.4em;background-color: white;}#sk-container-id-1 div.sk-label label {font-family: monospace;font-weight: bold;display: inline-block;line-height: 1.2em;}#sk-container-id-1 div.sk-label-container {text-align: center;}#sk-container-id-1 div.sk-container {/* jupyter's `normalize.less` sets `[hidden] { display: none; }` but bootstrap.min.css set `[hidden] { display: none !important; }` so we also need the `!important` here to be able to override the default hidden behavior on the sphinx rendered scikit-learn.org. See: https://github.com/scikit-learn/scikit-learn/issues/21755 */display: inline-block !important;position: relative;}#sk-container-id-1 div.sk-text-repr-fallback {display: none;}</style><div id=\"sk-container-id-1\" class=\"sk-top-container\"><div class=\"sk-text-repr-fallback\"><pre>DecisionTreeClassifier()</pre><b>In a Jupyter environment, please rerun this cell to show the HTML representation or trust the notebook. <br />On GitHub, the HTML representation is unable to render, please try loading this page with nbviewer.org.</b></div><div class=\"sk-container\" hidden><div class=\"sk-item\"><div class=\"sk-estimator sk-toggleable\"><input class=\"sk-toggleable__control sk-hidden--visually\" id=\"sk-estimator-id-1\" type=\"checkbox\" checked><label for=\"sk-estimator-id-1\" class=\"sk-toggleable__label sk-toggleable__label-arrow\">DecisionTreeClassifier</label><div class=\"sk-toggleable__content\"><pre>DecisionTreeClassifier()</pre></div></div></div></div></div>"
            ]
          },
          "metadata": {},
          "execution_count": 23
        }
      ]
    },
    {
      "cell_type": "code",
      "source": [
        "# Predict labels for all cleaned tweets\n",
        "predictions = clf.predict(X)"
      ],
      "metadata": {
        "id": "kH9l8mCdm2Y_"
      },
      "execution_count": 24,
      "outputs": []
    },
    {
      "cell_type": "code",
      "source": [
        "# Add predictions to the dataframe\n",
        "data[\"predictions\"] = predictions"
      ],
      "metadata": {
        "id": "o9F0vYt5uIGl"
      },
      "execution_count": 25,
      "outputs": []
    },
    {
      "cell_type": "code",
      "source": [
        "# Display the dataframe with predictions\n",
        "print(data.head(20))"
      ],
      "metadata": {
        "id": "sD58RlAHvZln",
        "colab": {
          "base_uri": "https://localhost:8080/"
        },
        "outputId": "92491582-6195-494b-8f2c-62c0ddad4846"
      },
      "execution_count": 26,
      "outputs": [
        {
          "output_type": "stream",
          "name": "stdout",
          "text": [
            "                                                tweet  \\\n",
            "0   !!! RT @mayasolovely: As a woman you shouldn't...   \n",
            "1   !!!!! RT @mleew17: boy dats cold...tyga dwn ba...   \n",
            "2   !!!!!!! RT @UrKindOfBrand Dawg!!!! RT @80sbaby...   \n",
            "3   !!!!!!!!! RT @C_G_Anderson: @viva_based she lo...   \n",
            "4   !!!!!!!!!!!!! RT @ShenikaRoberts: The shit you...   \n",
            "5   !!!!!!!!!!!!!!!!!!\"@T_Madison_x: The shit just...   \n",
            "6   !!!!!!\"@__BrighterDays: I can not just sit up ...   \n",
            "7   !!!!&#8220;@selfiequeenbri: cause I'm tired of...   \n",
            "8   \" &amp; you might not get ya bitch back &amp; ...   \n",
            "9   \" @rhythmixx_ :hobbies include: fighting Maria...   \n",
            "10  \" Keeks is a bitch she curves everyone \" lol I...   \n",
            "11                 \" Murda Gang bitch its Gang Land \"   \n",
            "12  \" So hoes that smoke are losers ? \" yea ... go...   \n",
            "13      \" bad bitches is the only thing that i like \"   \n",
            "14                            \" bitch get up off me \"   \n",
            "15                    \" bitch nigga miss me with it \"   \n",
            "16                             \" bitch plz whatever \"   \n",
            "17                          \" bitch who do you love \"   \n",
            "18                 \" bitches get cut off everyday B \"   \n",
            "19                 \" black bottle &amp; a bad bitch \"   \n",
            "\n",
            "                               labels  \\\n",
            "0   Non-offensive and normal Language   \n",
            "1                  Offensive Language   \n",
            "2                  Offensive Language   \n",
            "3                  Offensive Language   \n",
            "4                  Offensive Language   \n",
            "5                  Offensive Language   \n",
            "6                  Offensive Language   \n",
            "7                  Offensive Language   \n",
            "8                  Offensive Language   \n",
            "9                  Offensive Language   \n",
            "10                 Offensive Language   \n",
            "11                 Offensive Language   \n",
            "12                 Offensive Language   \n",
            "13                 Offensive Language   \n",
            "14                 Offensive Language   \n",
            "15                 Offensive Language   \n",
            "16                 Offensive Language   \n",
            "17                 Offensive Language   \n",
            "18                 Offensive Language   \n",
            "19                 Offensive Language   \n",
            "\n",
            "                                        cleaned_tweet  \\\n",
            "0   rt mayasolov woman shouldnt complain clean hou...   \n",
            "1    rt boy dat coldtyga dwn bad cuffin dat hoe place   \n",
            "2   rt urkindofbrand dawg rt ever fuck bitch start...   \n",
            "3           rt c_g_anderson viva_bas look like tranni   \n",
            "4   rt shenikarobert shit hear might true might fa...   \n",
            "5   t_madison_x shit blow meclaim faith somebodi s...   \n",
            "6   __brighterday sit hate anoth bitch got much sh...   \n",
            "7               caus im tire big bitch come us skinni   \n",
            "8                amp might get ya bitch back amp that   \n",
            "9           rhythmixx_ hobbi includ fight mariambitch   \n",
            "10  keek bitch curv everyon lol walk convers like smh   \n",
            "11                         murda gang bitch gang land   \n",
            "12                          hoe smoke loser yea go ig   \n",
            "13                               bad bitch thing like   \n",
            "14                                          bitch get   \n",
            "15                                   bitch nigga miss   \n",
            "16                                   bitch plz whatev   \n",
            "17                                         bitch love   \n",
            "18                           bitch get cut everyday b   \n",
            "19                          black bottl amp bad bitch   \n",
            "\n",
            "                          predictions  \n",
            "0   Non-offensive and normal Language  \n",
            "1                  Offensive Language  \n",
            "2                  Offensive Language  \n",
            "3                  Offensive Language  \n",
            "4                  Offensive Language  \n",
            "5                  Offensive Language  \n",
            "6                  Offensive Language  \n",
            "7                  Offensive Language  \n",
            "8                  Offensive Language  \n",
            "9                  Offensive Language  \n",
            "10                 Offensive Language  \n",
            "11                 Offensive Language  \n",
            "12                 Offensive Language  \n",
            "13                 Offensive Language  \n",
            "14                 Offensive Language  \n",
            "15                 Offensive Language  \n",
            "16                 Offensive Language  \n",
            "17                 Offensive Language  \n",
            "18                 Offensive Language  \n",
            "19                 Offensive Language  \n"
          ]
        }
      ]
    },
    {
      "cell_type": "code",
      "source": [
        "# Optionally, save the results to a new CSV file\n",
        "data.to_csv(\"twitter_with_predictions.csv\", index=False)"
      ],
      "metadata": {
        "id": "OMnePRgbwbSZ"
      },
      "execution_count": 27,
      "outputs": []
    }
  ]
}